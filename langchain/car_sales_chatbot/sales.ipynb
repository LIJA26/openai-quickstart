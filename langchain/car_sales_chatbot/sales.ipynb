{
 "cells": [
  {
   "cell_type": "markdown",
   "id": "69032b4b-b031-4020-beb0-e8dfd22b660e",
   "metadata": {},
   "source": "# LangChain 实战：汽车销售聊天机器人"
  },
  {
   "cell_type": "markdown",
   "id": "0f3e2d5a-c2ff-4faf-b153-d1751c25fae0",
   "metadata": {},
   "source": [
    "## 使用 GPT-4 构造销售话术数据\n",
    "\n",
    "\n",
    "\n",
    "使用 ChatGPT 构造销售数据的 Prompt 示例：\n",
    "\n",
    "```\n",
    "你是汽车金牌销售员，现在培训职场新人，请给出100条实用的销售话术。\n",
    "\n",
    "每条销售话术以如下格式给出：\n",
    "[客户问题]\n",
    "[销售回答]\n",
    "\n",
    "```\n",
    "\n",
    "GPT-4 回复结果：\n",
    "\n",
    "```\n",
    "当然，下面是100条实用的汽车销售话术，按照提供的格式列出：\n",
    "\n",
    "1. [客户问题] 我不确定这款车是否适合我的需求。\n",
    "   [销售回答] 您的需求是什么？我们可以一起看看这款车是否能够满足您的所有要求。\n",
    "\n",
    "2. [客户问题] 我觉得这款车的价格有点高。\n",
    "   [销售回答] 我理解您的顾虑。我们可以看看是否有适合您预算的其他选项，或者我们也有一些灵活的融资方案可以帮助您。\n",
    "\n",
    "3. [客户问题] 这款车的油耗如何？\n",
    "   [销售回答] 这款车的油耗非常经济，每百公里仅需X升，非常适合长途驾驶和日常通勤。\n",
    "\n",
    "4. [客户问题] 这款车的安全性能怎么样？\n",
    "   [销售回答] 这款车配备了多项先进的安全技术，例如自适应巡航控制、车道保持辅助和自动紧急制动系统，确保您的安全。\n",
    "\n",
    "5. [客户问题] 这款车有多少保修期？\n",
    "   [销售回答] 这款车提供5年或10万公里的保修期，此外我们还有延长保修服务可以选择。\n",
    "\n",
    "6. [客户问题] 这款车的售后服务怎么样？\n",
    "   [销售回答] 我们的售后服务非常全面，包括定期保养、紧急救援和免费的软件更新，确保您无忧驾驶。\n",
    "\n",
    "7. [客户问题] 我能试驾一下这款车吗？\n",
    "   [销售回答] 当然可以！我现在就为您安排试驾，让您亲自体验这款车的驾驶感受。\n",
    "\n",
    "8. [客户问题] 这款车的保养费用贵吗？\n",
    "   [销售回答] 这款车的保养费用非常合理，并且我们有多种保养套餐供您选择，您可以根据自己的需求来选择最适合的套餐。\n",
    "\n",
    "9. [客户问题] 这款车的保险费用高吗？\n",
    "   [销售回答] 保险费用取决于多种因素，包括您的驾驶记录和选择的保险公司。我们可以为您提供多种报价，帮您找到最合适的方案。\n",
    "\n",
    "10. [客户问题] 这款车有折扣吗？\n",
    "    [销售回答] 目前我们有一些促销活动和特别折扣，我可以为您详细介绍一下，帮您享受最大的优惠。\n",
    "```\n",
    "\n",
    "\n",
    "## 使用 Document Transformers 模块来处理原始数据\n",
    "\n",
    "\n",
    "将 ChatGPT 生成的结果保存到 [real_car_sales_data.txt](real_car_sales_data.txt) 文件中"
   ]
  },
  {
   "cell_type": "code",
   "id": "efcee928-b9f4-4e4a-b9fb-f6cbee21b642",
   "metadata": {
    "ExecuteTime": {
     "end_time": "2024-07-25T04:45:26.186496Z",
     "start_time": "2024-07-25T04:45:26.177498Z"
    }
   },
   "source": [
    "with open(\"real_car_sales_data.txt\", encoding='utf-8') as f:\n",
    "    real_car_sales = f.read()"
   ],
   "outputs": [],
   "execution_count": 2
  },
  {
   "cell_type": "markdown",
   "id": "a9119556-d2e3-4edf-be16-15837da156f1",
   "metadata": {
    "jupyter": {
     "source_hidden": true
    }
   },
   "source": [
    "### 使用 CharacterTextSplitter 来进行文本分割\n",
    "\n",
    "- 基于单字符来进行文本分割（separator）\n",
    "- 基于字符数来决定文本块长度（chunk_size）\n",
    "\n",
    "参考示例：\n",
    "\n",
    "```python\n",
    "from langchain.text_splitter import CharacterTextSplitter\n",
    "text_splitter = CharacterTextSplitter(        \n",
    "    separator = \"\\n\\n\",\n",
    "    chunk_size = 1000,\n",
    "    chunk_overlap  = 200,\n",
    "    length_function = len,\n",
    "    is_separator_regex = False,\n",
    ")\n",
    "```\n"
   ]
  },
  {
   "cell_type": "code",
   "id": "dbe535b8-2bd8-4c31-91d7-eba8aa61b3ef",
   "metadata": {
    "ExecuteTime": {
     "end_time": "2024-07-25T04:45:30.642530Z",
     "start_time": "2024-07-25T04:45:30.639527Z"
    }
   },
   "source": [
    "from langchain.text_splitter import CharacterTextSplitter"
   ],
   "outputs": [],
   "execution_count": 3
  },
  {
   "cell_type": "code",
   "id": "a4f30d9b-9fc6-4860-a497-0aa8220b9284",
   "metadata": {
    "ExecuteTime": {
     "end_time": "2024-07-25T04:45:31.451304Z",
     "start_time": "2024-07-25T04:45:31.445311Z"
    }
   },
   "source": [
    "text_splitter = CharacterTextSplitter(        \n",
    "    separator = r'\\d+\\.',\n",
    "    chunk_size = 100,\n",
    "    chunk_overlap  = 0,\n",
    "    length_function = len,\n",
    "    is_separator_regex = True,\n",
    ")"
   ],
   "outputs": [],
   "execution_count": 4
  },
  {
   "cell_type": "code",
   "id": "530f3172-17a5-4924-ad17-284fbca422ae",
   "metadata": {
    "ExecuteTime": {
     "end_time": "2024-07-25T04:45:32.136258Z",
     "start_time": "2024-07-25T04:45:32.127249Z"
    }
   },
   "source": "docs = text_splitter.create_documents([real_car_sales])",
   "outputs": [],
   "execution_count": 5
  },
  {
   "cell_type": "code",
   "id": "3956ec36-706e-4f43-88fc-d704f2984290",
   "metadata": {
    "ExecuteTime": {
     "end_time": "2024-07-25T04:45:32.779598Z",
     "start_time": "2024-07-25T04:45:32.769590Z"
    }
   },
   "source": "docs[0]",
   "outputs": [
    {
     "data": {
      "text/plain": [
       "Document(page_content='[客户问题] 我不确定这款车是否适合我的需求。\\n   [销售回答] 您的需求是什么？我们可以一起看看这款车是否能够满足您的所有要求。')"
      ]
     },
     "execution_count": 6,
     "metadata": {},
     "output_type": "execute_result"
    }
   ],
   "execution_count": 6
  },
  {
   "cell_type": "code",
   "id": "73b2d47a-27ae-4cd4-a72a-3809b4c22bff",
   "metadata": {
    "ExecuteTime": {
     "end_time": "2024-07-25T04:45:33.514086Z",
     "start_time": "2024-07-25T04:45:33.500079Z"
    }
   },
   "source": [
    "len(docs)"
   ],
   "outputs": [
    {
     "data": {
      "text/plain": [
       "100"
      ]
     },
     "execution_count": 7,
     "metadata": {},
     "output_type": "execute_result"
    }
   ],
   "execution_count": 7
  },
  {
   "cell_type": "markdown",
   "id": "e4617858-ad9c-42eb-a4c3-6bfb7108cdd2",
   "metadata": {},
   "source": "### 使用 Faiss 作为向量数据库，持久化存储汽车销售 问答对（QA-Pair）"
  },
  {
   "cell_type": "code",
   "id": "508c2ab2-e187-424f-a43c-ca3d3b1a0550",
   "metadata": {
    "ExecuteTime": {
     "end_time": "2024-07-25T04:47:59.702239Z",
     "start_time": "2024-07-25T04:47:37.771333Z"
    }
   },
   "source": [
    "from langchain.embeddings.openai import OpenAIEmbeddings\n",
    "from langchain.text_splitter import CharacterTextSplitter\n",
    "from langchain.vectorstores import FAISS\n",
    "\n",
    "db = FAISS.from_documents(docs, OpenAIEmbeddings(base_url=\"https://api.xiaoai.plus/v1\",api_key=\"sk-YIOnMFnuWMDaLG0bC93a20F2456b4dAdAa4aE692449483E7\"))"
   ],
   "outputs": [],
   "execution_count": 9
  },
  {
   "cell_type": "code",
   "id": "250e0873-95e2-4372-98a5-68c0feb304bb",
   "metadata": {
    "ExecuteTime": {
     "end_time": "2024-07-25T04:48:39.646025Z",
     "start_time": "2024-07-25T04:48:39.632019Z"
    }
   },
   "source": "query = \"这台车耗油吗\"",
   "outputs": [],
   "execution_count": 13
  },
  {
   "cell_type": "code",
   "id": "0d18fcc6-c2be-434b-b8de-9648ac6f83f4",
   "metadata": {
    "ExecuteTime": {
     "end_time": "2024-07-25T04:48:44.269015Z",
     "start_time": "2024-07-25T04:48:40.900190Z"
    }
   },
   "source": [
    "answer_list = db.similarity_search(query)"
   ],
   "outputs": [],
   "execution_count": 14
  },
  {
   "cell_type": "code",
   "id": "e689667e-7a45-40d6-9eae-4e52cbc7daab",
   "metadata": {
    "ExecuteTime": {
     "end_time": "2024-07-25T04:48:45.350269Z",
     "start_time": "2024-07-25T04:48:45.332263Z"
    }
   },
   "source": [
    "for ans in answer_list:\n",
    "    print(ans.page_content + \"\\n\")"
   ],
   "outputs": [
    {
     "name": "stdout",
     "output_type": "stream",
     "text": [
      "[客户问题] 这款车的油耗如何？\n",
      "   [销售回答] 这款车的油耗非常经济，每百公里仅需X升，非常适合长途驾驶和日常通勤。\n",
      "\n",
      "[客户问题] 这款车的油耗是多少？\n",
      "    [销售回答] 这款车的油耗非常经济，每百公里仅需X升，非常适合长途驾驶和日常通勤。\n",
      "\n",
      "[客户问题] 这款车有自动启停功能吗？\n",
      "    [销售回答] 是的，这款车配备了自动启停功能，可以在红灯和交通\n",
      "\n",
      "堵塞时自动关闭发动机，节省燃油。\n",
      "\n",
      "[客户问题] 这款车的尾气排放标准是什么？\n",
      "    [销售回答] 这款车符合最新的尾气排放标准，环保性能非常好，符合国家的环保政策。\n",
      "\n"
     ]
    }
   ],
   "execution_count": 15
  },
  {
   "cell_type": "code",
   "id": "a6cc47bf-1566-472f-84d2-a46bd634907c",
   "metadata": {
    "ExecuteTime": {
     "end_time": "2024-07-25T04:49:19.332566Z",
     "start_time": "2024-07-25T04:49:19.310566Z"
    }
   },
   "source": "db.save_local(\"real_car_sale\")",
   "outputs": [],
   "execution_count": 17
  },
  {
   "cell_type": "markdown",
   "id": "0d5323e5-03fa-4c1c-b896-3ccc28af1857",
   "metadata": {},
   "source": [
    "### 使用 retriever 从向量数据库中获取结果\n",
    "\n",
    "#### 使用参数 `k` 指定返回结果数量\n"
   ]
  },
  {
   "cell_type": "code",
   "id": "17f051c9-8676-48d1-a9a4-e69b52630faf",
   "metadata": {
    "ExecuteTime": {
     "end_time": "2024-07-25T04:49:26.901740Z",
     "start_time": "2024-07-25T04:49:26.894748Z"
    }
   },
   "source": [
    "# 实例化一个 TopK Retriever\n",
    "topK_retriever = db.as_retriever(search_kwargs={\"k\": 3})"
   ],
   "outputs": [],
   "execution_count": 18
  },
  {
   "cell_type": "code",
   "id": "e33024db-ca7b-4d68-9b0e-c31c15ded57d",
   "metadata": {
    "ExecuteTime": {
     "end_time": "2024-07-25T04:49:29.409833Z",
     "start_time": "2024-07-25T04:49:29.396831Z"
    }
   },
   "source": [
    "topK_retriever"
   ],
   "outputs": [
    {
     "data": {
      "text/plain": [
       "VectorStoreRetriever(tags=['FAISS', 'OpenAIEmbeddings'], vectorstore=<langchain_community.vectorstores.faiss.FAISS object at 0x0000029CE8327CD0>, search_kwargs={'k': 3})"
      ]
     },
     "execution_count": 19,
     "metadata": {},
     "output_type": "execute_result"
    }
   ],
   "execution_count": 19
  },
  {
   "cell_type": "code",
   "id": "7efb1414-859f-4818-bacd-e1e2edf34b95",
   "metadata": {
    "ExecuteTime": {
     "end_time": "2024-07-25T04:49:53.530339Z",
     "start_time": "2024-07-25T04:49:50.501724Z"
    }
   },
   "source": [
    "docs = topK_retriever.get_relevant_documents(query)\n",
    "for doc in docs:\n",
    "    print(doc.page_content + \"\\n\")"
   ],
   "outputs": [
    {
     "name": "stdout",
     "output_type": "stream",
     "text": [
      "[客户问题] 这款车的油耗如何？\n",
      "   [销售回答] 这款车的油耗非常经济，每百公里仅需X升，非常适合长途驾驶和日常通勤。\n",
      "\n",
      "[客户问题] 这款车的油耗是多少？\n",
      "    [销售回答] 这款车的油耗非常经济，每百公里仅需X升，非常适合长途驾驶和日常通勤。\n",
      "\n",
      "[客户问题] 这款车有自动启停功能吗？\n",
      "    [销售回答] 是的，这款车配备了自动启停功能，可以在红灯和交通\n",
      "\n",
      "堵塞时自动关闭发动机，节省燃油。\n",
      "\n"
     ]
    }
   ],
   "execution_count": 21
  },
  {
   "cell_type": "code",
   "id": "a3c4b62d-6f8f-461b-a4fb-41c8a404b831",
   "metadata": {
    "ExecuteTime": {
     "end_time": "2024-07-24T08:56:42.826043Z",
     "start_time": "2024-07-24T08:56:41.296172Z"
    }
   },
   "source": "docs = topK_retriever.get_relevant_documents(\"孩子上学方便吗\")",
   "outputs": [],
   "execution_count": 115
  },
  {
   "cell_type": "code",
   "id": "04cca3d7-23d9-491f-8350-faeb19861dec",
   "metadata": {
    "ExecuteTime": {
     "end_time": "2024-07-25T04:49:54.096728Z",
     "start_time": "2024-07-25T04:49:54.088727Z"
    }
   },
   "source": [
    "for doc in docs:\n",
    "    print(doc.page_content + \"\\n\")"
   ],
   "outputs": [
    {
     "name": "stdout",
     "output_type": "stream",
     "text": [
      "[客户问题] 这款车的油耗如何？\n",
      "   [销售回答] 这款车的油耗非常经济，每百公里仅需X升，非常适合长途驾驶和日常通勤。\n",
      "\n",
      "[客户问题] 这款车的油耗是多少？\n",
      "    [销售回答] 这款车的油耗非常经济，每百公里仅需X升，非常适合长途驾驶和日常通勤。\n",
      "\n",
      "[客户问题] 这款车有自动启停功能吗？\n",
      "    [销售回答] 是的，这款车配备了自动启停功能，可以在红灯和交通\n",
      "\n",
      "堵塞时自动关闭发动机，节省燃油。\n",
      "\n"
     ]
    }
   ],
   "execution_count": 22
  },
  {
   "cell_type": "markdown",
   "id": "b335c9e5-bc01-4a47-916c-03bec0e7a839",
   "metadata": {},
   "source": [
    "#### 使用 similarity_score_threshold 设置阈值，提升结果的相关性质量"
   ]
  },
  {
   "cell_type": "code",
   "id": "b1298956-6cf3-4a68-a3c2-a3149f64f156",
   "metadata": {
    "ExecuteTime": {
     "end_time": "2024-07-25T04:50:02.633681Z",
     "start_time": "2024-07-25T04:50:02.623681Z"
    }
   },
   "source": [
    "# 实例化一个 similarity_score_threshold Retriever\n",
    "retriever = db.as_retriever(\n",
    "    search_type=\"similarity_score_threshold\",\n",
    "    search_kwargs={\"score_threshold\": 0.8}\n",
    ")"
   ],
   "outputs": [],
   "execution_count": 23
  },
  {
   "cell_type": "code",
   "id": "d61167de-72ed-4618-a2e1-5df04784a3bc",
   "metadata": {
    "ExecuteTime": {
     "end_time": "2024-07-25T04:50:11.701601Z",
     "start_time": "2024-07-25T04:50:09.779109Z"
    }
   },
   "source": [
    "docs = retriever.get_relevant_documents(query)\n",
    "for doc in docs:\n",
    "    print(doc.page_content + \"\\n\")"
   ],
   "outputs": [
    {
     "name": "stdout",
     "output_type": "stream",
     "text": [
      "[客户问题] 这款车的油耗如何？\n",
      "   [销售回答] 这款车的油耗非常经济，每百公里仅需X升，非常适合长途驾驶和日常通勤。\n",
      "\n",
      "[客户问题] 这款车的油耗是多少？\n",
      "    [销售回答] 这款车的油耗非常经济，每百公里仅需X升，非常适合长途驾驶和日常通勤。\n",
      "\n"
     ]
    }
   ],
   "execution_count": 24
  },
  {
   "cell_type": "code",
   "execution_count": null,
   "id": "548d1b52-6fa2-46d6-9218-908db572f380",
   "metadata": {},
   "outputs": [],
   "source": []
  },
  {
   "cell_type": "markdown",
   "id": "c31344ce-f952-4604-b700-fdbb34da1e28",
   "metadata": {},
   "source": [
    "### 提取向量数据库中的`销售回答`"
   ]
  },
  {
   "cell_type": "code",
   "id": "25768463-da65-4762-978d-51c0c3a9c24b",
   "metadata": {
    "ExecuteTime": {
     "end_time": "2024-07-25T04:50:22.788391Z",
     "start_time": "2024-07-25T04:50:21.449704Z"
    }
   },
   "source": [
    "docs = retriever.get_relevant_documents(query)"
   ],
   "outputs": [],
   "execution_count": 25
  },
  {
   "cell_type": "code",
   "id": "4838d3da-dca3-4c31-80da-cec75760a833",
   "metadata": {
    "ExecuteTime": {
     "end_time": "2024-07-25T04:50:24.115036Z",
     "start_time": "2024-07-25T04:50:24.111037Z"
    }
   },
   "source": [
    "docs[0].page_content"
   ],
   "outputs": [
    {
     "data": {
      "text/plain": [
       "'[客户问题] 这款车的油耗如何？\\n   [销售回答] 这款车的油耗非常经济，每百公里仅需X升，非常适合长途驾驶和日常通勤。'"
      ]
     },
     "execution_count": 26,
     "metadata": {},
     "output_type": "execute_result"
    }
   ],
   "execution_count": 26
  },
  {
   "cell_type": "code",
   "id": "1ba30232-f468-4102-b70c-02c8b74da43d",
   "metadata": {
    "ExecuteTime": {
     "end_time": "2024-07-25T04:50:25.299423Z",
     "start_time": "2024-07-25T04:50:25.282913Z"
    }
   },
   "source": [
    "docs[0].page_content.split(\"[销售回答] \")"
   ],
   "outputs": [
    {
     "data": {
      "text/plain": [
       "['[客户问题] 这款车的油耗如何？\\n   ', '这款车的油耗非常经济，每百公里仅需X升，非常适合长途驾驶和日常通勤。']"
      ]
     },
     "execution_count": 27,
     "metadata": {},
     "output_type": "execute_result"
    }
   ],
   "execution_count": 27
  },
  {
   "cell_type": "code",
   "id": "bda8eb0c-eb1f-47b2-91ab-4c94ff71c3db",
   "metadata": {
    "ExecuteTime": {
     "end_time": "2024-07-25T04:50:26.496499Z",
     "start_time": "2024-07-25T04:50:26.491499Z"
    }
   },
   "source": [
    "ans = docs[0].page_content.split(\"[销售回答] \")[-1]"
   ],
   "outputs": [],
   "execution_count": 28
  },
  {
   "cell_type": "code",
   "id": "917a3b6c-3149-42e2-b7b6-abebd94b7f72",
   "metadata": {
    "ExecuteTime": {
     "end_time": "2024-07-25T04:50:27.404996Z",
     "start_time": "2024-07-25T04:50:27.393434Z"
    }
   },
   "source": [
    "ans"
   ],
   "outputs": [
    {
     "data": {
      "text/plain": [
       "'这款车的油耗非常经济，每百公里仅需X升，非常适合长途驾驶和日常通勤。'"
      ]
     },
     "execution_count": 29,
     "metadata": {},
     "output_type": "execute_result"
    }
   ],
   "execution_count": 29
  },
  {
   "cell_type": "markdown",
   "id": "b36b61a5-156d-4546-bbd1-8a983e94676b",
   "metadata": {},
   "source": [
    "#### 尝试各种问题"
   ]
  },
  {
   "cell_type": "code",
   "id": "c311a656-e571-45d6-8690-88e4be2c2a65",
   "metadata": {
    "ExecuteTime": {
     "end_time": "2024-07-25T04:51:09.488307Z",
     "start_time": "2024-07-25T04:51:09.469307Z"
    }
   },
   "source": [
    "from typing import List\n",
    "\n",
    "def sales(query: str, score_threshold: float=0.8) -> List[str]:\n",
    "    retriever = db.as_retriever(search_type=\"similarity_score_threshold\", search_kwargs={\"score_threshold\": score_threshold})    \n",
    "    docs = retriever.get_relevant_documents(query)\n",
    "    ans_list = [doc.page_content.split(\"[销售回答] \")[-1] for doc in docs]\n",
    "    return ans_list"
   ],
   "outputs": [],
   "execution_count": 30
  },
  {
   "cell_type": "code",
   "id": "2f4c6c08-b97c-4727-9aa1-a474d85a11e4",
   "metadata": {
    "ExecuteTime": {
     "end_time": "2024-07-25T04:51:25.531567Z",
     "start_time": "2024-07-25T04:51:23.875287Z"
    }
   },
   "source": [
    "query = \"这个价格太高了吧\"\n",
    "\n",
    "print(sales(query))"
   ],
   "outputs": [
    {
     "name": "stdout",
     "output_type": "stream",
     "text": [
      "[]\n"
     ]
    },
    {
     "name": "stderr",
     "output_type": "stream",
     "text": [
      "D:\\tools\\miniconda3\\envs\\langchain\\lib\\site-packages\\langchain_core\\vectorstores.py:342: UserWarning: No relevant docs were retrieved using the relevance score threshold 0.8\n",
      "  warnings.warn(\n"
     ]
    }
   ],
   "execution_count": 31
  },
  {
   "cell_type": "code",
   "id": "11e3d8b6-839f-4b2f-b519-841e0271f95b",
   "metadata": {
    "ExecuteTime": {
     "end_time": "2024-07-25T04:51:46.585909Z",
     "start_time": "2024-07-25T04:51:45.201251Z"
    }
   },
   "source": "print(sales(query, 0.7))",
   "outputs": [
    {
     "name": "stdout",
     "output_type": "stream",
     "text": [
      "['我理解您的顾虑。我们可以看看是否有适合您预算的其他选项，或者我们也有一些灵活的融资方案可以帮助您。', '这款车的维护费用非常合理，并且我们提供多种维护套餐，可以根据您的需求选择最适合的方案。', '这款车的保养费用非常合理，并且我们有多种保养套餐供您选择，您可以根据自己的需求来选择最适合的套餐。', '保险费用取决于多种因素，包括您的驾驶记录和选择的保险公司。我们可以为您提供多种报价，帮您找到最合适的方案。']\n"
     ]
    }
   ],
   "execution_count": 33
  },
  {
   "cell_type": "code",
   "id": "fc5b030a-ae6f-4d42-9577-1420c78aecb1",
   "metadata": {
    "ExecuteTime": {
     "end_time": "2024-07-25T04:52:19.695722Z",
     "start_time": "2024-07-25T04:52:16.640354Z"
    }
   },
   "source": [
    "query = \"舒适度要好一点\"\n",
    "\n",
    "print(f\"score:0.8 ans: {sales(query)}\\n\")\n",
    "print(f\"score:0.75 ans: {sales(query, 0.75)}\\n\")\n",
    "print(f\"score:0.5 ans: {sales(query, 0.5)}\\n\")"
   ],
   "outputs": [
    {
     "name": "stderr",
     "output_type": "stream",
     "text": [
      "D:\\tools\\miniconda3\\envs\\langchain\\lib\\site-packages\\langchain_core\\vectorstores.py:342: UserWarning: No relevant docs were retrieved using the relevance score threshold 0.8\n",
      "  warnings.warn(\n"
     ]
    },
    {
     "name": "stdout",
     "output_type": "stream",
     "text": [
      "score:0.8 ans: []\n",
      "\n",
      "score:0.75 ans: ['这款车的座椅采用人体工程学设计，并且有多向电动调节功能，坐起来非常舒适。']\n",
      "\n",
      "score:0.5 ans: ['这款车的座椅采用人体工程学设计，并且有多向电动调节功能，坐起来非常舒适。', '这款车的座椅通风功能非常好，可以在炎热的夏天提供凉爽的座椅体验，让您更加舒适。', '是的，这款车的座椅支持多向电动调节，可以轻松找到最舒适的坐姿。', '这款车的座椅加热功能非常好，可以快速加热，让您在寒冷的冬\\n\\n天也能享受温暖的驾驶体验。']\n",
      "\n"
     ]
    }
   ],
   "execution_count": 35
  },
  {
   "cell_type": "markdown",
   "id": "9e26e6d7-259b-4ecf-9c72-027befba4e3b",
   "metadata": {},
   "source": [
    "#### 当向量数据库中没有合适答案时，使用大语言模型能力"
   ]
  },
  {
   "cell_type": "code",
   "id": "9142feb4-980a-4142-b367-1401021dceef",
   "metadata": {
    "ExecuteTime": {
     "end_time": "2024-07-25T04:52:41.728119Z",
     "start_time": "2024-07-25T04:52:40.285049Z"
    }
   },
   "source": [
    "from langchain.chains import RetrievalQA\n",
    "from langchain_openai import ChatOpenAI\n",
    "\n",
    "llm = ChatOpenAI(model_name=\"gpt-4-1106-preview\", temperature=0.5, base_url=\"https://api.xiaoai.plus/v1\",api_key=\"sk-YIOnMFnuWMDaLG0bC93a20F2456b4dAdAa4aE692449483E7\")\n",
    "qa_chain = RetrievalQA.from_chain_type(llm,\n",
    "                                       retriever=db.as_retriever(search_type=\"similarity_score_threshold\",\n",
    "                                                                 search_kwargs={\"score_threshold\": 0.8}))"
   ],
   "outputs": [],
   "execution_count": 36
  },
  {
   "cell_type": "code",
   "id": "d281b560-54bb-4a25-a1dc-b23874361654",
   "metadata": {
    "ExecuteTime": {
     "end_time": "2024-07-25T04:53:32.631832Z",
     "start_time": "2024-07-25T04:53:16.768345Z"
    }
   },
   "source": "qa_chain({\"query\": \"汽车保养费高吗\"})",
   "outputs": [
    {
     "data": {
      "text/plain": [
       "{'query': '汽车保养费高吗',\n",
       " 'result': '这款车的保养费用非常合理，并且我们有多种保养套餐供您选择，您可以根据自己的需求来选择最适合的套餐。'}"
      ]
     },
     "execution_count": 38,
     "metadata": {},
     "output_type": "execute_result"
    }
   ],
   "execution_count": 38
  },
  {
   "cell_type": "code",
   "id": "c6a30dcc-fa6b-4282-935c-b07902746e19",
   "metadata": {
    "ExecuteTime": {
     "end_time": "2024-07-25T04:54:40.143219Z",
     "start_time": "2024-07-25T04:54:28.257503Z"
    }
   },
   "source": "qa_chain({\"query\": \"最便宜的汽车配置需要多少钱\"})",
   "outputs": [
    {
     "name": "stderr",
     "output_type": "stream",
     "text": [
      "D:\\tools\\miniconda3\\envs\\langchain\\lib\\site-packages\\langchain_core\\vectorstores.py:342: UserWarning: No relevant docs were retrieved using the relevance score threshold 0.8\n",
      "  warnings.warn(\n"
     ]
    },
    {
     "data": {
      "text/plain": [
       "{'query': '最便宜的汽车配置需要多少钱',\n",
       " 'result': '对不起，我无法提供具体的最便宜的汽车配置的价格。汽车价格会因品牌、型号、地区、税收、经销商定价策略以及购车时的各种优惠等因素而有很大的差异。通常，各个汽车制造商都会提供不同配置的车型，包括入门级（通常是最便宜的）以及配备更多功能的高级版本。\\n\\n如果你想了解特定市场中最便宜的汽车配置的价格，最好的方法是直接访问汽车制造商的官方网站，或联系当地的汽车经销商进行询价。此外，价格信息也可能在汽车评测网站、汽车购买指南或者在线汽车市场上找到。请注意，最便宜的配置可能会缺少某些舒适性或安全性功能。'}"
      ]
     },
     "execution_count": 40,
     "metadata": {},
     "output_type": "execute_result"
    }
   ],
   "execution_count": 40
  },
  {
   "cell_type": "code",
   "id": "9da44bd6-02ef-4fb6-8e9e-7c99aeba483a",
   "metadata": {
    "ExecuteTime": {
     "end_time": "2024-07-25T04:55:05.566605Z",
     "start_time": "2024-07-25T04:55:01.741201Z"
    }
   },
   "source": "print(sales(\"最便宜的汽车配置需要多少钱\"))",
   "outputs": [
    {
     "name": "stdout",
     "output_type": "stream",
     "text": [
      "[]\n"
     ]
    },
    {
     "name": "stderr",
     "output_type": "stream",
     "text": [
      "D:\\tools\\miniconda3\\envs\\langchain\\lib\\site-packages\\langchain_core\\vectorstores.py:342: UserWarning: No relevant docs were retrieved using the relevance score threshold 0.8\n",
      "  warnings.warn(\n"
     ]
    }
   ],
   "execution_count": 41
  },
  {
   "cell_type": "code",
   "execution_count": null,
   "id": "9764bb10-44ed-47c9-a351-a68f4f7d4f44",
   "metadata": {},
   "outputs": [],
   "source": []
  },
  {
   "cell_type": "markdown",
   "id": "0a0647e8-5b41-4c93-87c2-3240ec558717",
   "metadata": {},
   "source": [
    "## 加载 FAISS 向量数据库已有结果"
   ]
  },
  {
   "cell_type": "code",
   "id": "913edd04-37ea-4c3f-9346-086aeb0ab447",
   "metadata": {
    "ExecuteTime": {
     "end_time": "2024-07-25T04:56:11.642373Z",
     "start_time": "2024-07-25T04:56:10.562546Z"
    }
   },
   "source": [
    "from langchain_openai import OpenAIEmbeddings\n",
    "from langchain.vectorstores import FAISS\n",
    "\n",
    "db = FAISS.load_local(\"real_car_sale\", OpenAIEmbeddings(base_url=\"https://api.xiaoai.plus/v1\",api_key=\"sk-YIOnMFnuWMDaLG0bC93a20F2456b4dAdAa4aE692449483E7\"), allow_dangerous_deserialization='True')"
   ],
   "outputs": [],
   "execution_count": 44
  },
  {
   "cell_type": "code",
   "id": "77d8eee4-6383-4b4a-9737-95ea9fc53b87",
   "metadata": {
    "ExecuteTime": {
     "end_time": "2024-07-25T04:56:42.239889Z",
     "start_time": "2024-07-25T04:56:41.204326Z"
    }
   },
   "source": [
    "from langchain.chains import RetrievalQA\n",
    "from langchain.chat_models import ChatOpenAI\n",
    "\n",
    "llm = ChatOpenAI(model_name=\"gpt-4\", temperature=0.5, base_url=\"https://api.xiaoai.plus/v1\",api_key=\"sk-YIOnMFnuWMDaLG0bC93a20F2456b4dAdAa4aE692449483E7\")\n",
    "qa_chain = RetrievalQA.from_chain_type(llm,\n",
    "                                       retriever=db.as_retriever(search_type=\"similarity_score_threshold\",\n",
    "                                                                 search_kwargs={\"score_threshold\": 0.8}))"
   ],
   "outputs": [],
   "execution_count": 46
  },
  {
   "cell_type": "code",
   "id": "5dfac197-cadb-47d7-8cbe-1b07a83fc8e1",
   "metadata": {
    "ExecuteTime": {
     "end_time": "2024-07-25T04:57:09.060247Z",
     "start_time": "2024-07-25T04:56:59.184483Z"
    }
   },
   "source": "qa_chain({\"query\": \"那种车比较适合年轻人\"})",
   "outputs": [
    {
     "name": "stderr",
     "output_type": "stream",
     "text": [
      "D:\\tools\\miniconda3\\envs\\langchain\\lib\\site-packages\\langchain_core\\vectorstores.py:342: UserWarning: No relevant docs were retrieved using the relevance score threshold 0.8\n",
      "  warnings.warn(\n"
     ]
    },
    {
     "data": {
      "text/plain": [
       "{'query': '那种车比较适合年轻人',\n",
       " 'result': '适合年轻人的车型因个人喜好、预算和需求而异。一般来说，年轻人可能更喜欢外观时尚、操控性能好、油耗低的车型。一些热门的选择包括：本田飞度（Honda Fit）、大众高尔夫（Volkswagen Golf）、福特嘉年华（Ford Fiesta）和马自达3（Mazda3）。最终选择还需根据个人实际情况来决定。'}"
      ]
     },
     "execution_count": 47,
     "metadata": {},
     "output_type": "execute_result"
    }
   ],
   "execution_count": 47
  },
  {
   "cell_type": "code",
   "id": "fc393afc-06d3-4483-bd24-efe000ef5f2a",
   "metadata": {
    "ExecuteTime": {
     "end_time": "2024-07-25T04:57:23.398317Z",
     "start_time": "2024-07-25T04:57:23.390539Z"
    }
   },
   "source": [
    "# 输出内部 Chain 的日志\n",
    "qa_chain.combine_documents_chain.verbose = True"
   ],
   "outputs": [],
   "execution_count": 48
  },
  {
   "cell_type": "code",
   "id": "013c313a-5e7c-48d1-8ed4-eee96e50a99c",
   "metadata": {
    "ExecuteTime": {
     "end_time": "2024-07-25T04:57:49.999600Z",
     "start_time": "2024-07-25T04:57:36.429677Z"
    }
   },
   "source": "qa_chain({\"query\": \"那种车比较适合年轻人\"})",
   "outputs": [
    {
     "name": "stderr",
     "output_type": "stream",
     "text": [
      "D:\\tools\\miniconda3\\envs\\langchain\\lib\\site-packages\\langchain_core\\vectorstores.py:342: UserWarning: No relevant docs were retrieved using the relevance score threshold 0.8\n",
      "  warnings.warn(\n"
     ]
    },
    {
     "name": "stdout",
     "output_type": "stream",
     "text": [
      "\n",
      "\n",
      "\u001B[1m> Entering new StuffDocumentsChain chain...\u001B[0m\n",
      "\n",
      "\u001B[1m> Finished chain.\u001B[0m\n"
     ]
    },
    {
     "data": {
      "text/plain": [
       "{'query': '那种车比较适合年轻人',\n",
       " 'result': '对不起，您提供的信息不足以给出一个准确的答案。年轻人选择车辆时，可能会考虑很多因素，比如价格、燃油经济性、车辆性能、设计、安全性等。最好的建议是，年轻人应该根据自己的预算、需求和喜好来选择车辆。'}"
      ]
     },
     "execution_count": 49,
     "metadata": {},
     "output_type": "execute_result"
    }
   ],
   "execution_count": 49
  },
  {
   "cell_type": "code",
   "id": "e5fb0943-ffe9-4270-8dbe-f5f5314e6042",
   "metadata": {
    "ExecuteTime": {
     "end_time": "2024-07-25T04:57:58.281540Z",
     "start_time": "2024-07-25T04:57:58.263580Z"
    }
   },
   "source": [
    "# 返回向量数据库的检索结果\n",
    "qa_chain.return_source_documents = True"
   ],
   "outputs": [],
   "execution_count": 50
  },
  {
   "cell_type": "code",
   "id": "fbc1741e-d34f-4df5-874b-02b78e8cd67a",
   "metadata": {
    "ExecuteTime": {
     "end_time": "2024-07-25T04:58:54.881044Z",
     "start_time": "2024-07-25T04:58:33.080526Z"
    }
   },
   "source": "result = qa_chain({\"query\": \"那种车比较适合年轻人\"})",
   "outputs": [
    {
     "name": "stderr",
     "output_type": "stream",
     "text": [
      "D:\\tools\\miniconda3\\envs\\langchain\\lib\\site-packages\\langchain_core\\vectorstores.py:342: UserWarning: No relevant docs were retrieved using the relevance score threshold 0.8\n",
      "  warnings.warn(\n"
     ]
    },
    {
     "name": "stdout",
     "output_type": "stream",
     "text": [
      "\n",
      "\n",
      "\u001B[1m> Entering new StuffDocumentsChain chain...\u001B[0m\n",
      "\n",
      "\u001B[1m> Finished chain.\u001B[0m\n"
     ]
    }
   ],
   "execution_count": 53
  },
  {
   "cell_type": "code",
   "id": "fac8309c-033c-4144-ada0-08e74fa9bf2d",
   "metadata": {
    "ExecuteTime": {
     "end_time": "2024-07-25T04:58:56.962460Z",
     "start_time": "2024-07-25T04:58:56.951461Z"
    }
   },
   "source": [
    "result"
   ],
   "outputs": [
    {
     "data": {
      "text/plain": [
       "{'query': '那种车比较适合年轻人',\n",
       " 'result': '这个问题的答案可能会因人而异，因为不同的年轻人可能有不同的需求和喜好。但一般来说，一些小型车和紧凑型车，如本田Fit，福特Fiesta，或丰田Yaris可能比较适合年轻人，因为它们经济实用，容易驾驶和停车。此外，一些有科技感和环保意识的年轻人可能会选择电动车，如特斯拉Model 3。但最重要的是根据个人的需求和预算来选择车辆。',\n",
       " 'source_documents': []}"
      ]
     },
     "execution_count": 54,
     "metadata": {},
     "output_type": "execute_result"
    }
   ],
   "execution_count": 54
  },
  {
   "cell_type": "code",
   "execution_count": null,
   "id": "37de84df-999f-4469-9bbe-de9c95c6f6b3",
   "metadata": {},
   "outputs": [],
   "source": []
  }
 ],
 "metadata": {
  "kernelspec": {
   "display_name": "langchain",
   "language": "python",
   "name": "langchain"
  },
  "language_info": {
   "codemirror_mode": {
    "name": "ipython",
    "version": 3
   },
   "file_extension": ".py",
   "mimetype": "text/x-python",
   "name": "python",
   "nbconvert_exporter": "python",
   "pygments_lexer": "ipython3",
   "version": "3.10.14"
  }
 },
 "nbformat": 4,
 "nbformat_minor": 5
}
